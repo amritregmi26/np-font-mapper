{
 "cells": [
  {
   "cell_type": "code",
   "execution_count": 1,
   "metadata": {},
   "outputs": [
    {
     "name": "stderr",
     "output_type": "stream",
     "text": [
      "/home/amrit/miniconda/envs/font-map/lib/python3.11/site-packages/sentence_transformers/cross_encoder/CrossEncoder.py:13: TqdmWarning: IProgress not found. Please update jupyter and ipywidgets. See https://ipywidgets.readthedocs.io/en/stable/user_install.html\n",
      "  from tqdm.autonotebook import tqdm, trange\n"
     ]
    }
   ],
   "source": [
    "from np_font_mapper import FontMapper\n",
    "mapper  = FontMapper()"
   ]
  },
  {
   "cell_type": "code",
   "execution_count": 4,
   "metadata": {},
   "outputs": [
    {
     "data": {
      "text/plain": [
       "['preeti', 'pcs-nepali', 'himali-tt', 'kantipur', 'sagarmatha']"
      ]
     },
     "execution_count": 4,
     "metadata": {},
     "output_type": "execute_result"
    }
   ],
   "source": [
    "# Get available fonts\n",
    "mapper.available_fonts"
   ]
  },
  {
   "cell_type": "code",
   "execution_count": 7,
   "metadata": {},
   "outputs": [
    {
     "data": {
      "text/plain": [
       "{'0': 'ण्',\n",
       " '1': 'ज्ञ',\n",
       " '2': 'द्द',\n",
       " '3': 'घ',\n",
       " '4': 'द्ध',\n",
       " '5': 'छ',\n",
       " '6': 'ट',\n",
       " '7': 'ठ',\n",
       " '8': 'ड',\n",
       " '9': 'ढ',\n",
       " '~': 'ञ्',\n",
       " '!': '१',\n",
       " '@': '२',\n",
       " '#': '३',\n",
       " '$': '४',\n",
       " '%': '५',\n",
       " '^': '६',\n",
       " '&': '७',\n",
       " '*': '८',\n",
       " '(': '९',\n",
       " ')': '०',\n",
       " '_': ')',\n",
       " '+': 'ं',\n",
       " ' ': ' ',\n",
       " '`': 'ञ',\n",
       " '-': '(',\n",
       " '=': '.',\n",
       " 'Q': 'त्त',\n",
       " 'W': 'ध्',\n",
       " 'E': 'भ्',\n",
       " 'R': 'च्',\n",
       " 'T': 'त्',\n",
       " 'Y': 'थ्',\n",
       " 'U': 'ग्',\n",
       " 'I': 'क्ष्',\n",
       " 'O': 'इ',\n",
       " 'P': 'ए',\n",
       " '}': 'ै',\n",
       " '|': '्र',\n",
       " 'q': 'त्र',\n",
       " 'w': 'ध',\n",
       " 'e': 'भ',\n",
       " 'r': 'च',\n",
       " 't': 'त',\n",
       " 'y': 'थ',\n",
       " 'u': 'ग',\n",
       " 'i': 'ष्',\n",
       " 'o': 'य',\n",
       " 'p': 'उ',\n",
       " '[': 'ृ',\n",
       " ']': 'े',\n",
       " '\\\\': '्',\n",
       " 'A': 'ब्',\n",
       " 'S': 'क्',\n",
       " 'D': 'म्',\n",
       " 'F': 'ँ',\n",
       " 'G': 'न्',\n",
       " 'H': 'ज्',\n",
       " 'J': 'व्',\n",
       " 'K': 'प्',\n",
       " 'L': 'ी',\n",
       " ':': 'स्',\n",
       " '\"': 'ू',\n",
       " 'a': 'ब',\n",
       " 's': 'क',\n",
       " 'd': 'म',\n",
       " 'f': 'ा',\n",
       " 'g': 'न',\n",
       " 'h': 'ज',\n",
       " 'j': 'व',\n",
       " 'k': 'प',\n",
       " 'l': 'ि',\n",
       " ';': 'स',\n",
       " \"'\": 'ु',\n",
       " 'Z': 'श्',\n",
       " 'X': 'ह्',\n",
       " 'C': 'ऋ',\n",
       " 'V': 'ख्',\n",
       " 'B': 'द्य',\n",
       " 'N': 'ल्',\n",
       " 'M': 'ः',\n",
       " '<': '?',\n",
       " '>': 'श्र',\n",
       " '?': 'रु',\n",
       " 'z': 'श',\n",
       " 'x': 'ह',\n",
       " 'c': 'अ',\n",
       " 'v': 'ख',\n",
       " 'b': 'द',\n",
       " 'n': 'ल',\n",
       " ',': ',',\n",
       " '.': '।',\n",
       " '/': 'र',\n",
       " '„': 'ध्र',\n",
       " '…': '‘',\n",
       " 'ˆ': 'फ्',\n",
       " '‰': 'झ्',\n",
       " '‹': 'ङ्घ',\n",
       " '‘': 'ॅ',\n",
       " '•': 'ड्ड',\n",
       " '˜': 'ऽ',\n",
       " '›': 'द्र',\n",
       " '¡': 'ज्ञ्',\n",
       " '¢': 'द्घ',\n",
       " '£': 'घ्',\n",
       " '¤': 'झ्',\n",
       " '¥': '्र',\n",
       " '§': 'ट्ट',\n",
       " '©': 'र',\n",
       " 'ª': 'ङ',\n",
       " '«': '्र',\n",
       " '°': 'ङ्ढ',\n",
       " '±': '+',\n",
       " '´': 'झ',\n",
       " '¶': 'ठ्ठ',\n",
       " '¿': 'रू',\n",
       " 'Å': 'हृ',\n",
       " 'Æ': '”',\n",
       " 'Ë': 'ङ्ग',\n",
       " 'Ì': 'न्न',\n",
       " 'Í': 'ङ्क',\n",
       " 'Î': 'ङ्ख',\n",
       " 'Ò': '¨',\n",
       " 'Ö': '=',\n",
       " '×': '×',\n",
       " 'Ø': '्य',\n",
       " 'Ù': ';',\n",
       " 'Ú': '’',\n",
       " 'Û': '!',\n",
       " 'Ü': '%',\n",
       " 'Ý': 'ट्ठ',\n",
       " 'ß': 'द्म',\n",
       " 'å': 'द्व',\n",
       " 'æ': '“',\n",
       " 'ç': 'ॐ',\n",
       " '÷': '/'}"
      ]
     },
     "execution_count": 7,
     "metadata": {},
     "output_type": "execute_result"
    }
   ],
   "source": [
    "# Get the rules for Preeti font\n",
    "# You can check available fonts and check the rules for each font\n",
    "mapper.rules[0]['preeti']['char-map']"
   ]
  },
  {
   "cell_type": "code",
   "execution_count": 10,
   "metadata": {},
   "outputs": [],
   "source": [
    "# Set custom similarity threshold as needed to identify the language\n",
    "mapper.similarity_threshold = 0.65"
   ]
  },
  {
   "cell_type": "code",
   "execution_count": 27,
   "metadata": {},
   "outputs": [
    {
     "name": "stdout",
     "output_type": "stream",
     "text": [
      "Basic mapping:\n",
      "Input: ;Ë|fxno\n",
      "Output: सङ्ग्राहलय\n",
      "\n"
     ]
    }
   ],
   "source": [
    "# Example 1: Basic mapping (Default font is Preeti)\n",
    "nepali_text = \";Ë|fxno\" \n",
    "mapped_text = mapper.map(nepali_text)\n",
    "print(\"Basic mapping:\")\n",
    "print(f\"Input: {nepali_text}\")\n",
    "print(f\"Output: {mapped_text}\\n\")"
   ]
  },
  {
   "cell_type": "code",
   "execution_count": 18,
   "metadata": {},
   "outputs": [
    {
     "name": "stdout",
     "output_type": "stream",
     "text": [
      "Mixed text mapping:\n",
      "Input: ;fdflhs sfo{ (social work) ;dfhsf] nflu w]/} nfebfos x'G5.\n",
      "Output: सामाजिक कार्य (social work) समाजकाे लागि धेरै लाभदायक हुन्छ।\n",
      "\n"
     ]
    }
   ],
   "source": [
    "# Example 2: Mixed text with English\n",
    "mixed_text = \";fdflhs sfo{ (social work) ;dfhsf] nflu w]/} nfebfos x'G5.\"\n",
    "mapped_mixed = mapper.map(mixed_text)\n",
    "print(\"Mixed text mapping:\")\n",
    "print(f\"Input: {mixed_text}\")\n",
    "print(f\"Output: {mapped_mixed}\\n\")"
   ]
  },
  {
   "cell_type": "code",
   "execution_count": 26,
   "metadata": {},
   "outputs": [
    {
     "name": "stdout",
     "output_type": "stream",
     "text": [
      "Available fonts: ['preeti', 'pcs-nepali', 'himali-tt', 'kantipur', 'sagarmatha']\n",
      "\n",
      "Mapping same text with different fonts:\n",
      "Preeti: प्रकृति\n",
      "Kantipur: प्रकृति\n"
     ]
    }
   ],
   "source": [
    "# Example 3: Using different fonts\n",
    "fonts_to_try = ['preeti', 'kantipur']\n",
    "text_to_map = \"k|s[lt\"\n",
    "\n",
    "print(\"\\nMapping same text with different fonts:\")\n",
    "for font in fonts_to_try:\n",
    "    try:\n",
    "        result = mapper.map(text_to_map, font=font)\n",
    "        print(f\"{font.capitalize()}: {result}\")\n",
    "    except ValueError as e:\n",
    "        print(f\"Error with {font}: {e}\")"
   ]
  },
  {
   "cell_type": "code",
   "execution_count": 33,
   "metadata": {},
   "outputs": [
    {
     "name": "stdout",
     "output_type": "stream",
     "text": [
      "\n",
      "Mapping multiple lines:\n",
      "Input: vlgh pTvgg\n",
      "Output: खनिज उत्खनन\n",
      "\n",
      "Input: pBf]u Joj;fodf\n",
      "Output: उद्याेग व्यवसायमा\n",
      "\n"
     ]
    }
   ],
   "source": [
    "# Example 4: Mapping multiple lines\n",
    "multiline_text = \"\"\"\n",
    "vlgh pTvgg\n",
    "pBf]u Joj;fodf\n",
    "\"\"\"\n",
    "\n",
    "print(\"\\nMapping multiple lines:\")\n",
    "for line in multiline_text.strip().split('\\n'):\n",
    "    mapped_line = mapper.map(line.strip())\n",
    "    print(f\"Input: {line.strip()}\")\n",
    "    print(f\"Output: {mapped_line}\\n\")"
   ]
  },
  {
   "cell_type": "code",
   "execution_count": 34,
   "metadata": {},
   "outputs": [
    {
     "name": "stdout",
     "output_type": "stream",
     "text": [
      "Testing with invalid font:\n",
      "Expected error: Font not included in module\n"
     ]
    }
   ],
   "source": [
    "# Example 5: Error handling\n",
    "print(\"Testing with invalid font:\")\n",
    "try:\n",
    "    mapper.map(\"af]glsf\", font=\"invalid_font\")\n",
    "except ValueError as e:\n",
    "    print(f\"Expected error: {e}\")"
   ]
  }
 ],
 "metadata": {
  "kernelspec": {
   "display_name": "font-map",
   "language": "python",
   "name": "python3"
  },
  "language_info": {
   "codemirror_mode": {
    "name": "ipython",
    "version": 3
   },
   "file_extension": ".py",
   "mimetype": "text/x-python",
   "name": "python",
   "nbconvert_exporter": "python",
   "pygments_lexer": "ipython3",
   "version": "3.11.9"
  }
 },
 "nbformat": 4,
 "nbformat_minor": 2
}
