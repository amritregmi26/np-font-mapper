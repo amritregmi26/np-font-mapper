{
 "cells": [
  {
   "cell_type": "code",
   "execution_count": 1,
   "metadata": {},
   "outputs": [],
   "source": [
    "from np_font_mapper import FontMapper\n",
    "mapper  = FontMapper()"
   ]
  },
  {
   "cell_type": "code",
   "execution_count": 2,
   "metadata": {},
   "outputs": [
    {
     "data": {
      "text/plain": [
       "['preeti', 'pcs-nepali', 'himali-tt', 'kantipur', 'sagarmatha']"
      ]
     },
     "execution_count": 2,
     "metadata": {},
     "output_type": "execute_result"
    }
   ],
   "source": [
    "# Get available fonts\n",
    "mapper.available_fonts"
   ]
  },
  {
   "cell_type": "code",
   "execution_count": 7,
   "metadata": {},
   "outputs": [
    {
     "data": {
      "text/plain": [
       "[('0', 'ण्'),\n",
       " ('1', 'ज्ञ'),\n",
       " ('2', 'द्द'),\n",
       " ('3', 'घ'),\n",
       " ('4', 'द्ध'),\n",
       " ('5', 'छ'),\n",
       " ('6', 'ट'),\n",
       " ('7', 'ठ'),\n",
       " ('8', 'ड'),\n",
       " ('9', 'ढ'),\n",
       " ('~', 'ञ्'),\n",
       " ('!', '१'),\n",
       " ('@', '२'),\n",
       " ('#', '३'),\n",
       " ('$', '४')]"
      ]
     },
     "execution_count": 7,
     "metadata": {},
     "output_type": "execute_result"
    }
   ],
   "source": [
    "# Get the rules for Preeti font\n",
    "# You can check available fonts and check the rules for each font\n",
    "list(mapper.rules[0]['preeti']['char-map'].items())[:15]"
   ]
  },
  {
   "cell_type": "code",
   "execution_count": 21,
   "metadata": {},
   "outputs": [],
   "source": [
    "# Set custom similarity threshold as needed to identify the language (Default threshold is 0.70)\n",
    "# We need to initilize language detector to set custom similarity threshold\n",
    "mapper.initialize_detector()\n",
    "mapper.similarity_threshold = 0.69"
   ]
  },
  {
   "cell_type": "code",
   "execution_count": 18,
   "metadata": {},
   "outputs": [
    {
     "name": "stdout",
     "output_type": "stream",
     "text": [
      "Basic mapping:\n",
      "Input: ;Ë|fxno\n",
      "Output: सङ्ग्राहलय\n",
      "\n"
     ]
    }
   ],
   "source": [
    "# Example 1: Basic mapping (Default font is Preeti)\n",
    "nepali_text = \";Ë|fxno\"\n",
    "# Set map_only to True to avoid language detection\n",
    "mapped_text = mapper.map(nepali_text, map_only=True)\n",
    "print(\"Basic mapping:\")\n",
    "print(f\"Input: {nepali_text}\")\n",
    "print(f\"Output: {mapped_text}\\n\")"
   ]
  },
  {
   "cell_type": "code",
   "execution_count": 23,
   "metadata": {},
   "outputs": [
    {
     "name": "stdout",
     "output_type": "stream",
     "text": [
      "Mixed text mapping:\n",
      "Input: ;fdflhs sfo{ (social work) ;dfhsf] लागि w]/} nfebfos x'G5.\n",
      "Output: सामाजिक कार्य (social work) समाजकाे लागि धेरै लाभदायक हुन्छ।\n",
      "\n"
     ]
    }
   ],
   "source": [
    "# Example 2: Mixed text with English\n",
    "# We need to call the initialize_detector method first to detect language\n",
    "mixed_text = \";fdflhs sfo{ (social work) ;dfhsf] लागि w]/} nfebfos x'G5.\"\n",
    "mapped_mixed = mapper.map(mixed_text)\n",
    "print(\"Mixed text mapping:\")\n",
    "print(f\"Input: {mixed_text}\")\n",
    "print(f\"Output: {mapped_mixed}\\n\")"
   ]
  },
  {
   "cell_type": "code",
   "execution_count": 7,
   "metadata": {},
   "outputs": [
    {
     "name": "stdout",
     "output_type": "stream",
     "text": [
      "\n",
      "Mapping same text with different fonts:\n",
      "Preeti: प्रकृति\n",
      "Kantipur: प्रकृति\n"
     ]
    }
   ],
   "source": [
    "# Example 3: Using different fonts\n",
    "fonts_to_try = ['preeti', 'kantipur']\n",
    "text_to_map = \"k|s[lt\"\n",
    "\n",
    "print(\"\\nMapping same text with different fonts:\")\n",
    "for font in fonts_to_try:\n",
    "    try:\n",
    "        result = mapper.map(text_to_map, map_only=True, font=font)\n",
    "        print(f\"{font.capitalize()}: {result}\")\n",
    "    except ValueError as e:\n",
    "        print(f\"Error with {font}: {e}\")"
   ]
  },
  {
   "cell_type": "code",
   "execution_count": 8,
   "metadata": {},
   "outputs": [
    {
     "name": "stdout",
     "output_type": "stream",
     "text": [
      "\n",
      "Mapping multiple lines:\n",
      "Input: vlgh pTvgg\n",
      "Output: खनिज उत्खनन\n",
      "\n",
      "Input: pBf]u Joj;fodf\n",
      "Output: उद्याेग व्यवसायमा\n",
      "\n"
     ]
    }
   ],
   "source": [
    "# Example 4: Mapping multiple lines\n",
    "multiline_text = \"\"\"\n",
    "vlgh pTvgg\n",
    "pBf]u Joj;fodf\n",
    "\"\"\"\n",
    "\n",
    "print(\"\\nMapping multiple lines:\")\n",
    "for line in multiline_text.strip().split('\\n'):\n",
    "    mapped_line = mapper.map(line.strip(), map_only=True)\n",
    "    print(f\"Input: {line.strip()}\")\n",
    "    print(f\"Output: {mapped_line}\\n\")"
   ]
  },
  {
   "cell_type": "code",
   "execution_count": 9,
   "metadata": {},
   "outputs": [
    {
     "name": "stdout",
     "output_type": "stream",
     "text": [
      "Testing with invalid font:\n",
      "Expected error: Font not included in module\n"
     ]
    }
   ],
   "source": [
    "# Example 5: Error handling\n",
    "print(\"Testing with invalid font:\")\n",
    "try:\n",
    "    mapper.map(\"af]glsf\", map_only=True, font=\"invalid_font\")\n",
    "except ValueError as e:\n",
    "    print(f\"Expected error: {e}\")"
   ]
  }
 ],
 "metadata": {
  "kernelspec": {
   "display_name": "font-map",
   "language": "python",
   "name": "python3"
  },
  "language_info": {
   "codemirror_mode": {
    "name": "ipython",
    "version": 3
   },
   "file_extension": ".py",
   "mimetype": "text/x-python",
   "name": "python",
   "nbconvert_exporter": "python",
   "pygments_lexer": "ipython3",
   "version": "3.11.9"
  }
 },
 "nbformat": 4,
 "nbformat_minor": 2
}
