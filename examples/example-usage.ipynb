{
 "cells": [
  {
   "cell_type": "code",
   "execution_count": null,
   "metadata": {},
   "outputs": [],
   "source": [
    "from np_font_mapper import FontMapper\n",
    "mapper  = FontMapper()"
   ]
  },
  {
   "cell_type": "code",
   "execution_count": 4,
   "metadata": {},
   "outputs": [
    {
     "data": {
      "text/plain": [
       "['preeti', 'pcs-nepali', 'himali-tt', 'kantipur', 'sagarmatha']"
      ]
     },
     "execution_count": 4,
     "metadata": {},
     "output_type": "execute_result"
    }
   ],
   "source": [
    "# Get available fonts\n",
    "mapper.available_fonts"
   ]
  },
  {
   "cell_type": "code",
   "execution_count": 8,
   "metadata": {},
   "outputs": [
    {
     "data": {
      "text/plain": [
       "dict_items([('0', 'ण्'), ('1', 'ज्ञ'), ('2', 'द्द'), ('3', 'घ'), ('4', 'द्ध'), ('5', 'छ'), ('6', 'ट'), ('7', 'ठ'), ('8', 'ड'), ('9', 'ढ'), ('~', 'ञ्'), ('!', '१'), ('@', '२'), ('#', '३'), ('$', '४'), ('%', '५'), ('^', '६'), ('&', '७'), ('*', '८'), ('(', '९'), (')', '०'), ('_', ')'), ('+', 'ं'), (' ', ' '), ('`', 'ञ'), ('-', '('), ('=', '.'), ('Q', 'त्त'), ('W', 'ध्'), ('E', 'भ्'), ('R', 'च्'), ('T', 'त्'), ('Y', 'थ्'), ('U', 'ग्'), ('I', 'क्ष्'), ('O', 'इ'), ('P', 'ए'), ('}', 'ै'), ('|', '्र'), ('q', 'त्र'), ('w', 'ध'), ('e', 'भ'), ('r', 'च'), ('t', 'त'), ('y', 'थ'), ('u', 'ग'), ('i', 'ष्'), ('o', 'य'), ('p', 'उ'), ('[', 'ृ'), (']', 'े'), ('\\\\', '्'), ('A', 'ब्'), ('S', 'क्'), ('D', 'म्'), ('F', 'ँ'), ('G', 'न्'), ('H', 'ज्'), ('J', 'व्'), ('K', 'प्'), ('L', 'ी'), (':', 'स्'), ('\"', 'ू'), ('a', 'ब'), ('s', 'क'), ('d', 'म'), ('f', 'ा'), ('g', 'न'), ('h', 'ज'), ('j', 'व'), ('k', 'प'), ('l', 'ि'), (';', 'स'), (\"'\", 'ु'), ('Z', 'श्'), ('X', 'ह्'), ('C', 'ऋ'), ('V', 'ख्'), ('B', 'द्य'), ('N', 'ल्'), ('M', 'ः'), ('<', '?'), ('>', 'श्र'), ('?', 'रु'), ('z', 'श'), ('x', 'ह'), ('c', 'अ'), ('v', 'ख'), ('b', 'द'), ('n', 'ल'), (',', ','), ('.', '।'), ('/', 'र'), ('„', 'ध्र'), ('…', '‘'), ('ˆ', 'फ्'), ('‰', 'झ्'), ('‹', 'ङ्घ'), ('‘', 'ॅ'), ('•', 'ड्ड'), ('˜', 'ऽ'), ('›', 'द्र'), ('¡', 'ज्ञ्'), ('¢', 'द्घ'), ('£', 'घ्'), ('¤', 'झ्'), ('¥', '्र'), ('§', 'ट्ट'), ('©', 'र'), ('ª', 'ङ'), ('«', '्र'), ('°', 'ङ्ढ'), ('±', '+'), ('´', 'झ'), ('¶', 'ठ्ठ'), ('¿', 'रू'), ('Å', 'हृ'), ('Æ', '”'), ('Ë', 'ङ्ग'), ('Ì', 'न्न'), ('Í', 'ङ्क'), ('Î', 'ङ्ख'), ('Ò', '¨'), ('Ö', '='), ('×', '×'), ('Ø', '्य'), ('Ù', ';'), ('Ú', '’'), ('Û', '!'), ('Ü', '%'), ('Ý', 'ट्ठ'), ('ß', 'द्म'), ('å', 'द्व'), ('æ', '“'), ('ç', 'ॐ'), ('÷', '/')])"
      ]
     },
     "execution_count": 8,
     "metadata": {},
     "output_type": "execute_result"
    }
   ],
   "source": [
    "# Get the rules for Preeti font\n",
    "# You can check available fonts and check the rules for each font\n",
    "mapper.rules[0]['preeti']['char-map'].items()"
   ]
  },
  {
   "cell_type": "code",
   "execution_count": 10,
   "metadata": {},
   "outputs": [],
   "source": [
    "# Set custom similarity threshold as needed to identify the language\n",
    "mapper.similarity_threshold = 0.65"
   ]
  },
  {
   "cell_type": "code",
   "execution_count": 27,
   "metadata": {},
   "outputs": [
    {
     "name": "stdout",
     "output_type": "stream",
     "text": [
      "Basic mapping:\n",
      "Input: ;Ë|fxno\n",
      "Output: सङ्ग्राहलय\n",
      "\n"
     ]
    }
   ],
   "source": [
    "# Example 1: Basic mapping (Default font is Preeti)\n",
    "nepali_text = \";Ë|fxno\" \n",
    "mapped_text = mapper.map(nepali_text)\n",
    "print(\"Basic mapping:\")\n",
    "print(f\"Input: {nepali_text}\")\n",
    "print(f\"Output: {mapped_text}\\n\")"
   ]
  },
  {
   "cell_type": "code",
   "execution_count": 18,
   "metadata": {},
   "outputs": [
    {
     "name": "stdout",
     "output_type": "stream",
     "text": [
      "Mixed text mapping:\n",
      "Input: ;fdflhs sfo{ (social work) ;dfhsf] nflu w]/} nfebfos x'G5.\n",
      "Output: सामाजिक कार्य (social work) समाजकाे लागि धेरै लाभदायक हुन्छ।\n",
      "\n"
     ]
    }
   ],
   "source": [
    "# Example 2: Mixed text with English\n",
    "mixed_text = \";fdflhs sfo{ (social work) ;dfhsf] nflu w]/} nfebfos x'G5.\"\n",
    "mapped_mixed = mapper.map(mixed_text)\n",
    "print(\"Mixed text mapping:\")\n",
    "print(f\"Input: {mixed_text}\")\n",
    "print(f\"Output: {mapped_mixed}\\n\")"
   ]
  },
  {
   "cell_type": "code",
   "execution_count": 26,
   "metadata": {},
   "outputs": [
    {
     "name": "stdout",
     "output_type": "stream",
     "text": [
      "Available fonts: ['preeti', 'pcs-nepali', 'himali-tt', 'kantipur', 'sagarmatha']\n",
      "\n",
      "Mapping same text with different fonts:\n",
      "Preeti: प्रकृति\n",
      "Kantipur: प्रकृति\n"
     ]
    }
   ],
   "source": [
    "# Example 3: Using different fonts\n",
    "fonts_to_try = ['preeti', 'kantipur']\n",
    "text_to_map = \"k|s[lt\"\n",
    "\n",
    "print(\"\\nMapping same text with different fonts:\")\n",
    "for font in fonts_to_try:\n",
    "    try:\n",
    "        result = mapper.map(text_to_map, font=font)\n",
    "        print(f\"{font.capitalize()}: {result}\")\n",
    "    except ValueError as e:\n",
    "        print(f\"Error with {font}: {e}\")"
   ]
  },
  {
   "cell_type": "code",
   "execution_count": 33,
   "metadata": {},
   "outputs": [
    {
     "name": "stdout",
     "output_type": "stream",
     "text": [
      "\n",
      "Mapping multiple lines:\n",
      "Input: vlgh pTvgg\n",
      "Output: खनिज उत्खनन\n",
      "\n",
      "Input: pBf]u Joj;fodf\n",
      "Output: उद्याेग व्यवसायमा\n",
      "\n"
     ]
    }
   ],
   "source": [
    "# Example 4: Mapping multiple lines\n",
    "multiline_text = \"\"\"\n",
    "vlgh pTvgg\n",
    "pBf]u Joj;fodf\n",
    "\"\"\"\n",
    "\n",
    "print(\"\\nMapping multiple lines:\")\n",
    "for line in multiline_text.strip().split('\\n'):\n",
    "    mapped_line = mapper.map(line.strip())\n",
    "    print(f\"Input: {line.strip()}\")\n",
    "    print(f\"Output: {mapped_line}\\n\")"
   ]
  },
  {
   "cell_type": "code",
   "execution_count": 34,
   "metadata": {},
   "outputs": [
    {
     "name": "stdout",
     "output_type": "stream",
     "text": [
      "Testing with invalid font:\n",
      "Expected error: Font not included in module\n"
     ]
    }
   ],
   "source": [
    "# Example 5: Error handling\n",
    "print(\"Testing with invalid font:\")\n",
    "try:\n",
    "    mapper.map(\"af]glsf\", font=\"invalid_font\")\n",
    "except ValueError as e:\n",
    "    print(f\"Expected error: {e}\")"
   ]
  }
 ],
 "metadata": {
  "kernelspec": {
   "display_name": "font-map",
   "language": "python",
   "name": "python3"
  },
  "language_info": {
   "codemirror_mode": {
    "name": "ipython",
    "version": 3
   },
   "file_extension": ".py",
   "mimetype": "text/x-python",
   "name": "python",
   "nbconvert_exporter": "python",
   "pygments_lexer": "ipython3",
   "version": "3.11.9"
  }
 },
 "nbformat": 4,
 "nbformat_minor": 2
}
